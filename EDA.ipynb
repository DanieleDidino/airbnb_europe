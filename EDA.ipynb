{
 "cells": [
  {
   "cell_type": "markdown",
   "metadata": {},
   "source": [
    "# Load libraries"
   ]
  },
  {
   "cell_type": "code",
   "execution_count": 1,
   "metadata": {},
   "outputs": [],
   "source": [
    "import numpy as np\n",
    "import pandas as pd\n",
    "import matplotlib.pyplot as plt\n",
    "import seaborn as sns\n",
    "from pathlib import Path\n",
    "from ydata_profiling import ProfileReport\n",
    "\n",
    "%matplotlib inline"
   ]
  },
  {
   "cell_type": "markdown",
   "metadata": {},
   "source": [
    "# Load data set"
   ]
  },
  {
   "cell_type": "code",
   "execution_count": 2,
   "metadata": {},
   "outputs": [],
   "source": [
    "# Define path to file\n",
    "file_path = Path(\"Aemf1.csv\")\n",
    "\n",
    "# Load the CSV\n",
    "data = pd.read_csv(file_path)"
   ]
  },
  {
   "cell_type": "markdown",
   "metadata": {},
   "source": [
    "# Functions"
   ]
  },
  {
   "cell_type": "code",
   "execution_count": 3,
   "metadata": {},
   "outputs": [],
   "source": [
    "# function to print info of a column\n",
    "def print_NA_info(df: pd.DataFrame, feature:str) -> None:\n",
    "    print(f\"Number of unique values: {len(df[feature].unique())}\")\n",
    "    print(f\"Unique values: {df[feature].unique()}\")\n",
    "    print(f\"Shape train data: {df.shape}\")\n",
    "    na_per = ((df[feature].isna().sum() / len(df[feature])) * 100).round(2)\n",
    "    print(f\"The percentage of NA is: {na_per}%\", end=\"\\n\\n\")\n",
    "    ##\n",
    "    print(\n",
    "        df\n",
    "        .groupby(feature)[feature]\n",
    "        .count()\n",
    "    )"
   ]
  },
  {
   "cell_type": "markdown",
   "metadata": {},
   "source": [
    "# Display first rows"
   ]
  },
  {
   "cell_type": "code",
   "execution_count": 4,
   "metadata": {},
   "outputs": [
    {
     "data": {
      "text/html": [
       "<div>\n",
       "<style scoped>\n",
       "    .dataframe tbody tr th:only-of-type {\n",
       "        vertical-align: middle;\n",
       "    }\n",
       "\n",
       "    .dataframe tbody tr th {\n",
       "        vertical-align: top;\n",
       "    }\n",
       "\n",
       "    .dataframe thead th {\n",
       "        text-align: right;\n",
       "    }\n",
       "</style>\n",
       "<table border=\"1\" class=\"dataframe\">\n",
       "  <thead>\n",
       "    <tr style=\"text-align: right;\">\n",
       "      <th></th>\n",
       "      <th>City</th>\n",
       "      <th>Price</th>\n",
       "      <th>Day</th>\n",
       "      <th>Room Type</th>\n",
       "      <th>Shared Room</th>\n",
       "      <th>Private Room</th>\n",
       "      <th>Person Capacity</th>\n",
       "      <th>Superhost</th>\n",
       "      <th>Multiple Rooms</th>\n",
       "      <th>Business</th>\n",
       "      <th>Cleanliness Rating</th>\n",
       "    </tr>\n",
       "  </thead>\n",
       "  <tbody>\n",
       "    <tr>\n",
       "      <th>0</th>\n",
       "      <td>Amsterdam</td>\n",
       "      <td>194.033698</td>\n",
       "      <td>Weekday</td>\n",
       "      <td>Private room</td>\n",
       "      <td>False</td>\n",
       "      <td>True</td>\n",
       "      <td>2.0</td>\n",
       "      <td>False</td>\n",
       "      <td>1</td>\n",
       "      <td>0</td>\n",
       "      <td>10.0</td>\n",
       "    </tr>\n",
       "    <tr>\n",
       "      <th>1</th>\n",
       "      <td>Amsterdam</td>\n",
       "      <td>344.245776</td>\n",
       "      <td>Weekday</td>\n",
       "      <td>Private room</td>\n",
       "      <td>False</td>\n",
       "      <td>True</td>\n",
       "      <td>4.0</td>\n",
       "      <td>False</td>\n",
       "      <td>0</td>\n",
       "      <td>0</td>\n",
       "      <td>8.0</td>\n",
       "    </tr>\n",
       "    <tr>\n",
       "      <th>2</th>\n",
       "      <td>Amsterdam</td>\n",
       "      <td>264.101422</td>\n",
       "      <td>Weekday</td>\n",
       "      <td>Private room</td>\n",
       "      <td>False</td>\n",
       "      <td>True</td>\n",
       "      <td>2.0</td>\n",
       "      <td>False</td>\n",
       "      <td>0</td>\n",
       "      <td>1</td>\n",
       "      <td>9.0</td>\n",
       "    </tr>\n",
       "    <tr>\n",
       "      <th>3</th>\n",
       "      <td>Amsterdam</td>\n",
       "      <td>433.529398</td>\n",
       "      <td>Weekday</td>\n",
       "      <td>Private room</td>\n",
       "      <td>False</td>\n",
       "      <td>True</td>\n",
       "      <td>4.0</td>\n",
       "      <td>False</td>\n",
       "      <td>0</td>\n",
       "      <td>1</td>\n",
       "      <td>9.0</td>\n",
       "    </tr>\n",
       "    <tr>\n",
       "      <th>4</th>\n",
       "      <td>Amsterdam</td>\n",
       "      <td>485.552926</td>\n",
       "      <td>Weekday</td>\n",
       "      <td>Private room</td>\n",
       "      <td>False</td>\n",
       "      <td>True</td>\n",
       "      <td>2.0</td>\n",
       "      <td>True</td>\n",
       "      <td>0</td>\n",
       "      <td>0</td>\n",
       "      <td>10.0</td>\n",
       "    </tr>\n",
       "  </tbody>\n",
       "</table>\n",
       "</div>"
      ],
      "text/plain": [
       "        City       Price      Day     Room Type  Shared Room  Private Room  \\\n",
       "0  Amsterdam  194.033698  Weekday  Private room        False          True   \n",
       "1  Amsterdam  344.245776  Weekday  Private room        False          True   \n",
       "2  Amsterdam  264.101422  Weekday  Private room        False          True   \n",
       "3  Amsterdam  433.529398  Weekday  Private room        False          True   \n",
       "4  Amsterdam  485.552926  Weekday  Private room        False          True   \n",
       "\n",
       "   Person Capacity  Superhost  Multiple Rooms  Business  Cleanliness Rating  \n",
       "0              2.0      False               1         0                10.0  \n",
       "1              4.0      False               0         0                 8.0  \n",
       "2              2.0      False               0         1                 9.0  \n",
       "3              4.0      False               0         1                 9.0  \n",
       "4              2.0       True               0         0                10.0  "
      ]
     },
     "execution_count": 4,
     "metadata": {},
     "output_type": "execute_result"
    }
   ],
   "source": [
    "data.iloc[:, :11].head()"
   ]
  },
  {
   "cell_type": "code",
   "execution_count": 5,
   "metadata": {},
   "outputs": [
    {
     "data": {
      "text/html": [
       "<div>\n",
       "<style scoped>\n",
       "    .dataframe tbody tr th:only-of-type {\n",
       "        vertical-align: middle;\n",
       "    }\n",
       "\n",
       "    .dataframe tbody tr th {\n",
       "        vertical-align: top;\n",
       "    }\n",
       "\n",
       "    .dataframe thead th {\n",
       "        text-align: right;\n",
       "    }\n",
       "</style>\n",
       "<table border=\"1\" class=\"dataframe\">\n",
       "  <thead>\n",
       "    <tr style=\"text-align: right;\">\n",
       "      <th></th>\n",
       "      <th>Guest Satisfaction</th>\n",
       "      <th>Bedrooms</th>\n",
       "      <th>City Center (km)</th>\n",
       "      <th>Metro Distance (km)</th>\n",
       "      <th>Attraction Index</th>\n",
       "      <th>Normalised Attraction Index</th>\n",
       "      <th>Restraunt Index</th>\n",
       "      <th>Normalised Restraunt Index</th>\n",
       "    </tr>\n",
       "  </thead>\n",
       "  <tbody>\n",
       "    <tr>\n",
       "      <th>0</th>\n",
       "      <td>93.0</td>\n",
       "      <td>1</td>\n",
       "      <td>5.022964</td>\n",
       "      <td>2.539380</td>\n",
       "      <td>78.690379</td>\n",
       "      <td>4.166708</td>\n",
       "      <td>98.253896</td>\n",
       "      <td>6.846473</td>\n",
       "    </tr>\n",
       "    <tr>\n",
       "      <th>1</th>\n",
       "      <td>85.0</td>\n",
       "      <td>1</td>\n",
       "      <td>0.488389</td>\n",
       "      <td>0.239404</td>\n",
       "      <td>631.176378</td>\n",
       "      <td>33.421209</td>\n",
       "      <td>837.280757</td>\n",
       "      <td>58.342928</td>\n",
       "    </tr>\n",
       "    <tr>\n",
       "      <th>2</th>\n",
       "      <td>87.0</td>\n",
       "      <td>1</td>\n",
       "      <td>5.748312</td>\n",
       "      <td>3.651621</td>\n",
       "      <td>75.275877</td>\n",
       "      <td>3.985908</td>\n",
       "      <td>95.386955</td>\n",
       "      <td>6.646700</td>\n",
       "    </tr>\n",
       "    <tr>\n",
       "      <th>3</th>\n",
       "      <td>90.0</td>\n",
       "      <td>2</td>\n",
       "      <td>0.384862</td>\n",
       "      <td>0.439876</td>\n",
       "      <td>493.272534</td>\n",
       "      <td>26.119108</td>\n",
       "      <td>875.033098</td>\n",
       "      <td>60.973565</td>\n",
       "    </tr>\n",
       "    <tr>\n",
       "      <th>4</th>\n",
       "      <td>98.0</td>\n",
       "      <td>1</td>\n",
       "      <td>0.544738</td>\n",
       "      <td>0.318693</td>\n",
       "      <td>552.830324</td>\n",
       "      <td>29.272733</td>\n",
       "      <td>815.305740</td>\n",
       "      <td>56.811677</td>\n",
       "    </tr>\n",
       "  </tbody>\n",
       "</table>\n",
       "</div>"
      ],
      "text/plain": [
       "   Guest Satisfaction  Bedrooms  City Center (km)  Metro Distance (km)  \\\n",
       "0                93.0         1          5.022964             2.539380   \n",
       "1                85.0         1          0.488389             0.239404   \n",
       "2                87.0         1          5.748312             3.651621   \n",
       "3                90.0         2          0.384862             0.439876   \n",
       "4                98.0         1          0.544738             0.318693   \n",
       "\n",
       "   Attraction Index  Normalised Attraction Index  Restraunt Index  \\\n",
       "0         78.690379                     4.166708        98.253896   \n",
       "1        631.176378                    33.421209       837.280757   \n",
       "2         75.275877                     3.985908        95.386955   \n",
       "3        493.272534                    26.119108       875.033098   \n",
       "4        552.830324                    29.272733       815.305740   \n",
       "\n",
       "   Normalised Restraunt Index  \n",
       "0                    6.846473  \n",
       "1                   58.342928  \n",
       "2                    6.646700  \n",
       "3                   60.973565  \n",
       "4                   56.811677  "
      ]
     },
     "execution_count": 5,
     "metadata": {},
     "output_type": "execute_result"
    }
   ],
   "source": [
    "data.iloc[:, 11:].head()"
   ]
  },
  {
   "cell_type": "markdown",
   "metadata": {},
   "source": [
    "# Describe"
   ]
  },
  {
   "cell_type": "code",
   "execution_count": 6,
   "metadata": {},
   "outputs": [
    {
     "data": {
      "text/html": [
       "<div>\n",
       "<style scoped>\n",
       "    .dataframe tbody tr th:only-of-type {\n",
       "        vertical-align: middle;\n",
       "    }\n",
       "\n",
       "    .dataframe tbody tr th {\n",
       "        vertical-align: top;\n",
       "    }\n",
       "\n",
       "    .dataframe thead th {\n",
       "        text-align: right;\n",
       "    }\n",
       "</style>\n",
       "<table border=\"1\" class=\"dataframe\">\n",
       "  <thead>\n",
       "    <tr style=\"text-align: right;\">\n",
       "      <th></th>\n",
       "      <th>Price</th>\n",
       "      <th>Person Capacity</th>\n",
       "      <th>Multiple Rooms</th>\n",
       "      <th>Business</th>\n",
       "      <th>Cleanliness Rating</th>\n",
       "      <th>Guest Satisfaction</th>\n",
       "      <th>Bedrooms</th>\n",
       "    </tr>\n",
       "  </thead>\n",
       "  <tbody>\n",
       "    <tr>\n",
       "      <th>count</th>\n",
       "      <td>41714.000000</td>\n",
       "      <td>41714.000000</td>\n",
       "      <td>41714.000000</td>\n",
       "      <td>41714.000000</td>\n",
       "      <td>41714.000000</td>\n",
       "      <td>41714.000000</td>\n",
       "      <td>41714.000000</td>\n",
       "    </tr>\n",
       "    <tr>\n",
       "      <th>mean</th>\n",
       "      <td>260.094423</td>\n",
       "      <td>3.237235</td>\n",
       "      <td>0.295273</td>\n",
       "      <td>0.341180</td>\n",
       "      <td>9.442274</td>\n",
       "      <td>93.103179</td>\n",
       "      <td>1.165939</td>\n",
       "    </tr>\n",
       "    <tr>\n",
       "      <th>std</th>\n",
       "      <td>279.408493</td>\n",
       "      <td>1.299459</td>\n",
       "      <td>0.456171</td>\n",
       "      <td>0.474112</td>\n",
       "      <td>0.889173</td>\n",
       "      <td>8.141745</td>\n",
       "      <td>0.638157</td>\n",
       "    </tr>\n",
       "    <tr>\n",
       "      <th>min</th>\n",
       "      <td>34.779339</td>\n",
       "      <td>2.000000</td>\n",
       "      <td>0.000000</td>\n",
       "      <td>0.000000</td>\n",
       "      <td>2.000000</td>\n",
       "      <td>20.000000</td>\n",
       "      <td>0.000000</td>\n",
       "    </tr>\n",
       "    <tr>\n",
       "      <th>25%</th>\n",
       "      <td>144.016085</td>\n",
       "      <td>2.000000</td>\n",
       "      <td>0.000000</td>\n",
       "      <td>0.000000</td>\n",
       "      <td>9.000000</td>\n",
       "      <td>90.000000</td>\n",
       "      <td>1.000000</td>\n",
       "    </tr>\n",
       "    <tr>\n",
       "      <th>50%</th>\n",
       "      <td>203.819274</td>\n",
       "      <td>3.000000</td>\n",
       "      <td>0.000000</td>\n",
       "      <td>0.000000</td>\n",
       "      <td>10.000000</td>\n",
       "      <td>95.000000</td>\n",
       "      <td>1.000000</td>\n",
       "    </tr>\n",
       "    <tr>\n",
       "      <th>75%</th>\n",
       "      <td>297.373358</td>\n",
       "      <td>4.000000</td>\n",
       "      <td>1.000000</td>\n",
       "      <td>1.000000</td>\n",
       "      <td>10.000000</td>\n",
       "      <td>98.000000</td>\n",
       "      <td>1.000000</td>\n",
       "    </tr>\n",
       "    <tr>\n",
       "      <th>max</th>\n",
       "      <td>18545.450285</td>\n",
       "      <td>6.000000</td>\n",
       "      <td>1.000000</td>\n",
       "      <td>1.000000</td>\n",
       "      <td>10.000000</td>\n",
       "      <td>100.000000</td>\n",
       "      <td>10.000000</td>\n",
       "    </tr>\n",
       "  </tbody>\n",
       "</table>\n",
       "</div>"
      ],
      "text/plain": [
       "              Price  Person Capacity  Multiple Rooms      Business  \\\n",
       "count  41714.000000     41714.000000    41714.000000  41714.000000   \n",
       "mean     260.094423         3.237235        0.295273      0.341180   \n",
       "std      279.408493         1.299459        0.456171      0.474112   \n",
       "min       34.779339         2.000000        0.000000      0.000000   \n",
       "25%      144.016085         2.000000        0.000000      0.000000   \n",
       "50%      203.819274         3.000000        0.000000      0.000000   \n",
       "75%      297.373358         4.000000        1.000000      1.000000   \n",
       "max    18545.450285         6.000000        1.000000      1.000000   \n",
       "\n",
       "       Cleanliness Rating  Guest Satisfaction      Bedrooms  \n",
       "count        41714.000000        41714.000000  41714.000000  \n",
       "mean             9.442274           93.103179      1.165939  \n",
       "std              0.889173            8.141745      0.638157  \n",
       "min              2.000000           20.000000      0.000000  \n",
       "25%              9.000000           90.000000      1.000000  \n",
       "50%             10.000000           95.000000      1.000000  \n",
       "75%             10.000000           98.000000      1.000000  \n",
       "max             10.000000          100.000000     10.000000  "
      ]
     },
     "execution_count": 6,
     "metadata": {},
     "output_type": "execute_result"
    }
   ],
   "source": [
    "data.iloc[:, :13].describe()"
   ]
  },
  {
   "cell_type": "code",
   "execution_count": 7,
   "metadata": {},
   "outputs": [
    {
     "data": {
      "text/html": [
       "<div>\n",
       "<style scoped>\n",
       "    .dataframe tbody tr th:only-of-type {\n",
       "        vertical-align: middle;\n",
       "    }\n",
       "\n",
       "    .dataframe tbody tr th {\n",
       "        vertical-align: top;\n",
       "    }\n",
       "\n",
       "    .dataframe thead th {\n",
       "        text-align: right;\n",
       "    }\n",
       "</style>\n",
       "<table border=\"1\" class=\"dataframe\">\n",
       "  <thead>\n",
       "    <tr style=\"text-align: right;\">\n",
       "      <th></th>\n",
       "      <th>City Center (km)</th>\n",
       "      <th>Metro Distance (km)</th>\n",
       "      <th>Attraction Index</th>\n",
       "      <th>Normalised Attraction Index</th>\n",
       "      <th>Restraunt Index</th>\n",
       "      <th>Normalised Restraunt Index</th>\n",
       "    </tr>\n",
       "  </thead>\n",
       "  <tbody>\n",
       "    <tr>\n",
       "      <th>count</th>\n",
       "      <td>41714.000000</td>\n",
       "      <td>41714.000000</td>\n",
       "      <td>41714.000000</td>\n",
       "      <td>41714.000000</td>\n",
       "      <td>41714.000000</td>\n",
       "      <td>41714.000000</td>\n",
       "    </tr>\n",
       "    <tr>\n",
       "      <th>mean</th>\n",
       "      <td>2.679792</td>\n",
       "      <td>0.603921</td>\n",
       "      <td>293.905990</td>\n",
       "      <td>11.719658</td>\n",
       "      <td>626.692618</td>\n",
       "      <td>25.553590</td>\n",
       "    </tr>\n",
       "    <tr>\n",
       "      <th>std</th>\n",
       "      <td>1.996684</td>\n",
       "      <td>0.706206</td>\n",
       "      <td>235.750055</td>\n",
       "      <td>8.379161</td>\n",
       "      <td>520.644720</td>\n",
       "      <td>18.484572</td>\n",
       "    </tr>\n",
       "    <tr>\n",
       "      <th>min</th>\n",
       "      <td>0.015045</td>\n",
       "      <td>0.002301</td>\n",
       "      <td>15.152201</td>\n",
       "      <td>0.926301</td>\n",
       "      <td>19.576924</td>\n",
       "      <td>0.592757</td>\n",
       "    </tr>\n",
       "    <tr>\n",
       "      <th>25%</th>\n",
       "      <td>1.275913</td>\n",
       "      <td>0.236693</td>\n",
       "      <td>124.371614</td>\n",
       "      <td>5.510735</td>\n",
       "      <td>210.459574</td>\n",
       "      <td>11.132052</td>\n",
       "    </tr>\n",
       "    <tr>\n",
       "      <th>50%</th>\n",
       "      <td>2.253237</td>\n",
       "      <td>0.391220</td>\n",
       "      <td>228.920599</td>\n",
       "      <td>9.951086</td>\n",
       "      <td>519.583509</td>\n",
       "      <td>21.814414</td>\n",
       "    </tr>\n",
       "    <tr>\n",
       "      <th>75%</th>\n",
       "      <td>3.584489</td>\n",
       "      <td>0.678702</td>\n",
       "      <td>394.000201</td>\n",
       "      <td>15.467009</td>\n",
       "      <td>860.708156</td>\n",
       "      <td>36.821356</td>\n",
       "    </tr>\n",
       "    <tr>\n",
       "      <th>max</th>\n",
       "      <td>25.284557</td>\n",
       "      <td>14.273577</td>\n",
       "      <td>4513.563486</td>\n",
       "      <td>100.000000</td>\n",
       "      <td>6696.156772</td>\n",
       "      <td>100.000000</td>\n",
       "    </tr>\n",
       "  </tbody>\n",
       "</table>\n",
       "</div>"
      ],
      "text/plain": [
       "       City Center (km)  Metro Distance (km)  Attraction Index  \\\n",
       "count      41714.000000         41714.000000      41714.000000   \n",
       "mean           2.679792             0.603921        293.905990   \n",
       "std            1.996684             0.706206        235.750055   \n",
       "min            0.015045             0.002301         15.152201   \n",
       "25%            1.275913             0.236693        124.371614   \n",
       "50%            2.253237             0.391220        228.920599   \n",
       "75%            3.584489             0.678702        394.000201   \n",
       "max           25.284557            14.273577       4513.563486   \n",
       "\n",
       "       Normalised Attraction Index  Restraunt Index  \\\n",
       "count                 41714.000000     41714.000000   \n",
       "mean                     11.719658       626.692618   \n",
       "std                       8.379161       520.644720   \n",
       "min                       0.926301        19.576924   \n",
       "25%                       5.510735       210.459574   \n",
       "50%                       9.951086       519.583509   \n",
       "75%                      15.467009       860.708156   \n",
       "max                     100.000000      6696.156772   \n",
       "\n",
       "       Normalised Restraunt Index  \n",
       "count                41714.000000  \n",
       "mean                    25.553590  \n",
       "std                     18.484572  \n",
       "min                      0.592757  \n",
       "25%                     11.132052  \n",
       "50%                     21.814414  \n",
       "75%                     36.821356  \n",
       "max                    100.000000  "
      ]
     },
     "execution_count": 7,
     "metadata": {},
     "output_type": "execute_result"
    }
   ],
   "source": [
    "data.iloc[:, 13:].describe()"
   ]
  },
  {
   "cell_type": "markdown",
   "metadata": {},
   "source": [
    "# Info"
   ]
  },
  {
   "cell_type": "code",
   "execution_count": 8,
   "metadata": {},
   "outputs": [
    {
     "name": "stdout",
     "output_type": "stream",
     "text": [
      "<class 'pandas.core.frame.DataFrame'>\n",
      "RangeIndex: 41714 entries, 0 to 41713\n",
      "Data columns (total 19 columns):\n",
      " #   Column                       Non-Null Count  Dtype  \n",
      "---  ------                       --------------  -----  \n",
      " 0   City                         41714 non-null  object \n",
      " 1   Price                        41714 non-null  float64\n",
      " 2   Day                          41714 non-null  object \n",
      " 3   Room Type                    41714 non-null  object \n",
      " 4   Shared Room                  41714 non-null  bool   \n",
      " 5   Private Room                 41714 non-null  bool   \n",
      " 6   Person Capacity              41714 non-null  float64\n",
      " 7   Superhost                    41714 non-null  bool   \n",
      " 8   Multiple Rooms               41714 non-null  int64  \n",
      " 9   Business                     41714 non-null  int64  \n",
      " 10  Cleanliness Rating           41714 non-null  float64\n",
      " 11  Guest Satisfaction           41714 non-null  float64\n",
      " 12  Bedrooms                     41714 non-null  int64  \n",
      " 13  City Center (km)             41714 non-null  float64\n",
      " 14  Metro Distance (km)          41714 non-null  float64\n",
      " 15  Attraction Index             41714 non-null  float64\n",
      " 16  Normalised Attraction Index  41714 non-null  float64\n",
      " 17  Restraunt Index              41714 non-null  float64\n",
      " 18  Normalised Restraunt Index   41714 non-null  float64\n",
      "dtypes: bool(3), float64(10), int64(3), object(3)\n",
      "memory usage: 5.2+ MB\n"
     ]
    }
   ],
   "source": [
    "data.info()"
   ]
  },
  {
   "cell_type": "markdown",
   "metadata": {},
   "source": [
    "# Create report"
   ]
  },
  {
   "cell_type": "code",
   "execution_count": 9,
   "metadata": {},
   "outputs": [],
   "source": [
    "profile = ProfileReport(data, title=\"Profiling Report\")"
   ]
  },
  {
   "cell_type": "code",
   "execution_count": 10,
   "metadata": {},
   "outputs": [
    {
     "name": "stderr",
     "output_type": "stream",
     "text": [
      "Summarize dataset:  81%|████████  | 21/26 [00:00<00:00, 46.87it/s, Calculate auto correlation]                   c:\\Users\\danie\\AppData\\Local\\Programs\\Python\\Python39\\lib\\site-packages\\ydata_profiling\\model\\correlations.py:66: UserWarning: There was an attempt to calculate the auto correlation, but this failed.\n",
      "To hide this warning, disable the calculation\n",
      "(using `df.profile_report(correlations={\"auto\": {\"calculate\": False}})`\n",
      "If this is problematic for your use case, please report this as an issue:\n",
      "https://github.com/ydataai/ydata-profiling/issues\n",
      "(include the error message: 'could not convert string to float: 'Amsterdam'')\n",
      "  warnings.warn(\n",
      "Summarize dataset: 100%|██████████| 128/128 [00:11<00:00, 11.20it/s, Completed]                                                       \n",
      "Generate report structure: 100%|██████████| 1/1 [00:03<00:00,  3.80s/it]\n",
      "Render HTML: 100%|██████████| 1/1 [00:02<00:00,  2.46s/it]\n",
      "Export report to file: 100%|██████████| 1/1 [00:00<00:00, 55.54it/s]\n"
     ]
    }
   ],
   "source": [
    "# profile.to_notebook_iframe()\n",
    "# profile.to_widgets()\n",
    "profile.to_file(\"report.html\")"
   ]
  },
  {
   "cell_type": "markdown",
   "metadata": {},
   "source": [
    "# Feature selection"
   ]
  },
  {
   "cell_type": "markdown",
   "metadata": {},
   "source": [
    "### Price"
   ]
  },
  {
   "cell_type": "code",
   "execution_count": 11,
   "metadata": {},
   "outputs": [
    {
     "name": "stdout",
     "output_type": "stream",
     "text": [
      "Lenght price: 41714\n",
      "N price above 1000: 476\n",
      "percentage excluded: 1.14 (with a limit of 1000)\n",
      "N price above 800: 904\n",
      "percentage excluded: 2.17 (with a limit of 800)\n"
     ]
    }
   ],
   "source": [
    "threshold_1 = 1000\n",
    "threshold_2 = 800 \n",
    "\n",
    "n_above_limit_1 = np.sum(data[\"Price\"] > threshold_1)\n",
    "n_above_limit_2 = np.sum(data[\"Price\"] > threshold_2)\n",
    "\n",
    "len_price = len(data.Price)\n",
    "\n",
    "percent_excluded_1 = round((n_above_limit_1 / len_price) * 100, 2)\n",
    "percent_excluded_2 = round((n_above_limit_2 / len_price) * 100, 2)\n",
    "\n",
    "print(f\"Lenght price: {len_price}\")\n",
    "print(f\"N price above {threshold_1}: {n_above_limit_1}\")\n",
    "print(f\"percentage excluded: {percent_excluded_1} (with a limit of {threshold_1})\")\n",
    "print(f\"N price above {threshold_2}: {n_above_limit_2}\")\n",
    "print(f\"percentage excluded: {percent_excluded_2} (with a limit of {threshold_2})\")"
   ]
  },
  {
   "cell_type": "code",
   "execution_count": 12,
   "metadata": {},
   "outputs": [],
   "source": [
    "# Filter the dataset\n",
    "filtered_data_1 = data[data[\"Price\"] < threshold_1]\n",
    "filtered_data_2 = data[data[\"Price\"] < threshold_2]"
   ]
  },
  {
   "cell_type": "code",
   "execution_count": 13,
   "metadata": {},
   "outputs": [
    {
     "name": "stderr",
     "output_type": "stream",
     "text": [
      "c:\\Users\\danie\\AppData\\Local\\Programs\\Python\\Python39\\lib\\site-packages\\seaborn\\_oldcore.py:1119: FutureWarning: use_inf_as_na option is deprecated and will be removed in a future version. Convert inf values to NaN before operating instead.\n",
      "  with pd.option_context('mode.use_inf_as_na', True):\n",
      "c:\\Users\\danie\\AppData\\Local\\Programs\\Python\\Python39\\lib\\site-packages\\seaborn\\_oldcore.py:1119: FutureWarning: use_inf_as_na option is deprecated and will be removed in a future version. Convert inf values to NaN before operating instead.\n",
      "  with pd.option_context('mode.use_inf_as_na', True):\n",
      "c:\\Users\\danie\\AppData\\Local\\Programs\\Python\\Python39\\lib\\site-packages\\seaborn\\_oldcore.py:1119: FutureWarning: use_inf_as_na option is deprecated and will be removed in a future version. Convert inf values to NaN before operating instead.\n",
      "  with pd.option_context('mode.use_inf_as_na', True):\n"
     ]
    },
    {
     "data": {
      "text/plain": [
       "<Axes: xlabel='Price', ylabel='Count'>"
      ]
     },
     "execution_count": 13,
     "metadata": {},
     "output_type": "execute_result"
    },
    {
     "data": {
      "image/png": "[encoded data removed]",
      "text/plain": [
       "<Figure size 1440x576 with 4 Axes>"
      ]
     },
     "metadata": {
      "needs_background": "light"
     },
     "output_type": "display_data"
    }
   ],
   "source": [
    "plt.figure(figsize=(20, 8))\n",
    "\n",
    "plt.subplot(2, 2, 1)\n",
    "sns.histplot(data, x=\"Price\")\n",
    "\n",
    "plt.subplot(2, 2, 2)\n",
    "sns.boxplot(x=\"Price\", data=data)\n",
    "plt.axvline(x=threshold_1, color=\"red\", linestyle=\"--\")\n",
    "plt.axvline(x=threshold_2, color=\"red\", linestyle=\"--\")\n",
    "\n",
    "plt.subplot(2, 2, 3)\n",
    "sns.histplot(filtered_data_1, x=\"Price\")\n",
    "\n",
    "plt.subplot(2, 2, 4)\n",
    "sns.histplot(filtered_data_2, x=\"Price\")\n"
   ]
  },
  {
   "cell_type": "markdown",
   "metadata": {},
   "source": [
    "I filter the rows with `Price` above 800€"
   ]
  },
  {
   "cell_type": "code",
   "execution_count": 14,
   "metadata": {},
   "outputs": [
    {
     "name": "stdout",
     "output_type": "stream",
     "text": [
      "nrows original dataset: 41714\n",
      "nrows new dataset:      40810\n",
      "N rows with price above 800€: 904\n",
      "percentage included data: 97.83 (with a limit of 800€)\n"
     ]
    }
   ],
   "source": [
    "selected_threshold = 800 \n",
    "\n",
    "data_new = data[data[\"Price\"] < selected_threshold]\n",
    "\n",
    "nrow_data = len(data.Price)\n",
    "nrow_data_new = len(data_new.Price)\n",
    "\n",
    "percent_included = round((nrow_data_new / nrow_data) * 100, 2)\n",
    "\n",
    "print(f\"nrows original dataset: {len(data.Price)}\")\n",
    "print(f\"nrows new dataset:      {len(data_new.Price)}\")\n",
    "print(f\"N rows with price above {selected_threshold}€: {np.sum(data['Price'] > selected_threshold)}\")\n",
    "print(f\"percentage included data: {percent_included} (with a limit of {selected_threshold}€)\")"
   ]
  },
  {
   "cell_type": "markdown",
   "metadata": {},
   "source": [
    "## Room Type"
   ]
  },
  {
   "cell_type": "code",
   "execution_count": 15,
   "metadata": {},
   "outputs": [
    {
     "name": "stdout",
     "output_type": "stream",
     "text": [
      "Number of unique values: 3\n",
      "Unique values: ['Private room' 'Entire home/apt' 'Shared room']\n",
      "Shape train data: (40810, 19)\n",
      "The percentage of NA is: 0.0%\n",
      "\n",
      "Room Type\n",
      "Entire home/apt    27455\n",
      "Private room       13039\n",
      "Shared room          316\n",
      "Name: Room Type, dtype: int64\n"
     ]
    }
   ],
   "source": [
    "print_NA_info(data_new, \"Room Type\")"
   ]
  },
  {
   "cell_type": "code",
   "execution_count": 16,
   "metadata": {},
   "outputs": [],
   "source": [
    "categories_to_include = [\"Entire home/apt\", \"Private room\"]\n",
    "\n",
    "data_new = data_new[data_new[\"Room Type\"].isin(categories_to_include)]"
   ]
  },
  {
   "cell_type": "markdown",
   "metadata": {},
   "source": [
    "## Private Room"
   ]
  },
  {
   "cell_type": "code",
   "execution_count": 17,
   "metadata": {},
   "outputs": [
    {
     "data": {
      "text/html": [
       "<div>\n",
       "<style scoped>\n",
       "    .dataframe tbody tr th:only-of-type {\n",
       "        vertical-align: middle;\n",
       "    }\n",
       "\n",
       "    .dataframe tbody tr th {\n",
       "        vertical-align: top;\n",
       "    }\n",
       "\n",
       "    .dataframe thead th {\n",
       "        text-align: right;\n",
       "    }\n",
       "</style>\n",
       "<table border=\"1\" class=\"dataframe\">\n",
       "  <thead>\n",
       "    <tr style=\"text-align: right;\">\n",
       "      <th>Private Room</th>\n",
       "      <th>False</th>\n",
       "      <th>True</th>\n",
       "    </tr>\n",
       "    <tr>\n",
       "      <th>Room Type</th>\n",
       "      <th></th>\n",
       "      <th></th>\n",
       "    </tr>\n",
       "  </thead>\n",
       "  <tbody>\n",
       "    <tr>\n",
       "      <th>Entire home/apt</th>\n",
       "      <td>27455</td>\n",
       "      <td>0</td>\n",
       "    </tr>\n",
       "    <tr>\n",
       "      <th>Private room</th>\n",
       "      <td>0</td>\n",
       "      <td>13039</td>\n",
       "    </tr>\n",
       "  </tbody>\n",
       "</table>\n",
       "</div>"
      ],
      "text/plain": [
       "Private Room     False  True \n",
       "Room Type                    \n",
       "Entire home/apt  27455      0\n",
       "Private room         0  13039"
      ]
     },
     "execution_count": 17,
     "metadata": {},
     "output_type": "execute_result"
    }
   ],
   "source": [
    "pd.crosstab(data_new[\"Room Type\"], data_new[\"Private Room\"], rownames=[\"Room Type\"], colnames=[\"Private Room\"], margins=False)"
   ]
  },
  {
   "cell_type": "markdown",
   "metadata": {},
   "source": [
    "## Cleanliness Rating"
   ]
  },
  {
   "cell_type": "code",
   "execution_count": 18,
   "metadata": {},
   "outputs": [],
   "source": [
    "conditions = [\n",
    "    data_new[\"Cleanliness Rating\"] <= 8,\n",
    "    data_new[\"Cleanliness Rating\"] == 9,\n",
    "    data_new[\"Cleanliness Rating\"] == 10\n",
    "]\n",
    "choices = [\n",
    "    \"1-8\",\n",
    "    \"9\",\n",
    "    \"10\"\n",
    "]\n",
    "\n",
    "# Apply numpy select\n",
    "data_new[\"Cleanliness Rating Cat\"] = np.select(conditions, choices, default=\"Undefined\")"
   ]
  },
  {
   "cell_type": "code",
   "execution_count": 19,
   "metadata": {},
   "outputs": [
    {
     "name": "stderr",
     "output_type": "stream",
     "text": [
      "c:\\Users\\danie\\AppData\\Local\\Programs\\Python\\Python39\\lib\\site-packages\\seaborn\\_oldcore.py:1119: FutureWarning: use_inf_as_na option is deprecated and will be removed in a future version. Convert inf values to NaN before operating instead.\n",
      "  with pd.option_context('mode.use_inf_as_na', True):\n",
      "c:\\Users\\danie\\AppData\\Local\\Programs\\Python\\Python39\\lib\\site-packages\\seaborn\\_oldcore.py:1119: FutureWarning: use_inf_as_na option is deprecated and will be removed in a future version. Convert inf values to NaN before operating instead.\n",
      "  with pd.option_context('mode.use_inf_as_na', True):\n"
     ]
    },
    {
     "data": {
      "image/png": "[encoded data removed]",
      "text/plain": [
       "<Figure size 1440x576 with 2 Axes>"
      ]
     },
     "metadata": {
      "needs_background": "light"
     },
     "output_type": "display_data"
    }
   ],
   "source": [
    "plt.figure(figsize=(20, 8))\n",
    "\n",
    "plt.subplot(1, 2, 1)\n",
    "sns.histplot(data_new, x=\"Cleanliness Rating\")\n",
    "\n",
    "plt.subplot(1, 2, 2)\n",
    "sns.histplot(data_new, x=\"Cleanliness Rating Cat\")\n",
    "\n",
    "plt.show()"
   ]
  },
  {
   "cell_type": "markdown",
   "metadata": {},
   "source": [
    "## Guest Satisfaction"
   ]
  },
  {
   "cell_type": "code",
   "execution_count": 20,
   "metadata": {},
   "outputs": [],
   "source": [
    "conditions = [\n",
    "    data_new[\"Guest Satisfaction\"] <= 80,\n",
    "    (data_new[\"Guest Satisfaction\"] > 80) & (data_new[\"Guest Satisfaction\"] <= 90),\n",
    "    (data_new[\"Guest Satisfaction\"] > 90) & (data_new[\"Guest Satisfaction\"] <= 95),\n",
    "    (data_new[\"Guest Satisfaction\"] > 95) & (data_new[\"Guest Satisfaction\"] <= 98),\n",
    "    data_new[\"Guest Satisfaction\"] > 98\n",
    "]\n",
    "choices = [\n",
    "    \"1-80\",\n",
    "    \"81-90\",\n",
    "    \"91-95\",\n",
    "    \"95-98\",\n",
    "    \"98-100\"\n",
    "]\n",
    "\n",
    "# Apply numpy select\n",
    "data_new[\"Guest Satisfaction Cat\"] = np.select(conditions, choices, default=\"Undefined\")"
   ]
  },
  {
   "cell_type": "code",
   "execution_count": 21,
   "metadata": {},
   "outputs": [
    {
     "name": "stderr",
     "output_type": "stream",
     "text": [
      "c:\\Users\\danie\\AppData\\Local\\Programs\\Python\\Python39\\lib\\site-packages\\seaborn\\_oldcore.py:1119: FutureWarning: use_inf_as_na option is deprecated and will be removed in a future version. Convert inf values to NaN before operating instead.\n",
      "  with pd.option_context('mode.use_inf_as_na', True):\n",
      "c:\\Users\\danie\\AppData\\Local\\Programs\\Python\\Python39\\lib\\site-packages\\seaborn\\_oldcore.py:1119: FutureWarning: use_inf_as_na option is deprecated and will be removed in a future version. Convert inf values to NaN before operating instead.\n",
      "  with pd.option_context('mode.use_inf_as_na', True):\n"
     ]
    },
    {
     "data": {
      "image/png": "[encoded data removed]",
      "text/plain": [
       "<Figure size 1440x576 with 2 Axes>"
      ]
     },
     "metadata": {
      "needs_background": "light"
     },
     "output_type": "display_data"
    }
   ],
   "source": [
    "plt.figure(figsize=(20, 8))\n",
    "\n",
    "plt.subplot(1, 2, 1)\n",
    "sns.histplot(data_new, x=\"Guest Satisfaction\")\n",
    "\n",
    "plt.subplot(1, 2, 2)\n",
    "sns.histplot(data_new, x=\"Guest Satisfaction Cat\")\n",
    "\n",
    "plt.show()"
   ]
  },
  {
   "cell_type": "markdown",
   "metadata": {},
   "source": [
    "## Bedrooms"
   ]
  },
  {
   "cell_type": "code",
   "execution_count": 22,
   "metadata": {},
   "outputs": [],
   "source": [
    "conditions = [\n",
    "    data_new[\"Bedrooms\"] == 0,\n",
    "    data_new[\"Bedrooms\"] == 1,\n",
    "    data_new[\"Bedrooms\"] == 2,\n",
    "    data_new[\"Bedrooms\"] > 2\n",
    "]\n",
    "choices = [\n",
    "    \"0\",\n",
    "    \"1\",\n",
    "    \"2\",\n",
    "    \"3+\"\n",
    "]\n",
    "\n",
    "# Apply numpy select\n",
    "data_new[\"Bedrooms Cat\"] = np.select(conditions, choices, default=\"Undefined\")"
   ]
  },
  {
   "cell_type": "code",
   "execution_count": 23,
   "metadata": {},
   "outputs": [
    {
     "name": "stderr",
     "output_type": "stream",
     "text": [
      "c:\\Users\\danie\\AppData\\Local\\Programs\\Python\\Python39\\lib\\site-packages\\seaborn\\_oldcore.py:1119: FutureWarning: use_inf_as_na option is deprecated and will be removed in a future version. Convert inf values to NaN before operating instead.\n",
      "  with pd.option_context('mode.use_inf_as_na', True):\n",
      "c:\\Users\\danie\\AppData\\Local\\Programs\\Python\\Python39\\lib\\site-packages\\seaborn\\_oldcore.py:1119: FutureWarning: use_inf_as_na option is deprecated and will be removed in a future version. Convert inf values to NaN before operating instead.\n",
      "  with pd.option_context('mode.use_inf_as_na', True):\n"
     ]
    },
    {
     "data": {
      "image/png": "[encoded data removed]",
      "text/plain": [
       "<Figure size 1440x576 with 2 Axes>"
      ]
     },
     "metadata": {
      "needs_background": "light"
     },
     "output_type": "display_data"
    }
   ],
   "source": [
    "plt.figure(figsize=(20, 8))\n",
    "\n",
    "plt.subplot(1, 2, 1)\n",
    "sns.histplot(data_new, x=\"Bedrooms\")\n",
    "\n",
    "plt.subplot(1, 2, 2)\n",
    "sns.histplot(data_new, x=\"Bedrooms Cat\")\n",
    "\n",
    "plt.show()"
   ]
  },
  {
   "cell_type": "markdown",
   "metadata": {},
   "source": [
    "# Conclusions"
   ]
  },
  {
   "cell_type": "markdown",
   "metadata": {},
   "source": [
    "The features were selected based on the plots above and on the report generated with `ProfileReport`.\n",
    "\n",
    "**Excluded Features**:\n",
    "- `Shared Room` (highly imbalanced)\n",
    "- `Private Room` (superfluous, already coded in `Room Type`)\n",
    "\n",
    "**Included (transformed)**:\n",
    "- `Price` (only `Price < 800€`)\n",
    "- `Room Type` (only `Entire home/apt` and `Private room`)\n",
    "- `Cleanliness Rating Cat` (categorical version of `Cleanliness Rating` with categories \"1-8\", \"9\", \"10\")\n",
    "- `Guest Satisfaction Cat` (categorical version of `Guest Satisfaction` with categories \"1-80\", \"81-90\", \"91-95\", \"95-98\", \"98-100\")\n",
    "- `Bedrooms Cat` (categorical version of `Bedrooms` with categories \"0\", \"1\", \"2\", \"3+\")\n",
    "\n",
    "**Included Features**:\n",
    "- `City`\n",
    "- `Day`\n",
    "- `Person Capacity`\n",
    "- `Superhost`\n",
    "- `Multiple Rooms`\n",
    "- `Business`\n",
    "- `Cleanliness Rating`\n",
    "- `Guest Satisfaction`\n",
    "- `Bedrooms`\n",
    "- `City Center (km)`\n",
    "- `Metro Distance (km)`\n",
    "- `Attraction Index`\n",
    "- `Normalised Attraction Index`\n",
    "- `Restraunt Index`\n",
    "- `Normalised Restraunt Index`\n",
    "\n"
   ]
  },
  {
   "cell_type": "code",
   "execution_count": 24,
   "metadata": {},
   "outputs": [
    {
     "data": {
      "text/plain": [
       "Index(['City', 'Price', 'Day', 'Room Type', 'Shared Room', 'Private Room',\n",
       "       'Person Capacity', 'Superhost', 'Multiple Rooms', 'Business',\n",
       "       'Cleanliness Rating', 'Guest Satisfaction', 'Bedrooms',\n",
       "       'City Center (km)', 'Metro Distance (km)', 'Attraction Index',\n",
       "       'Normalised Attraction Index', 'Restraunt Index',\n",
       "       'Normalised Restraunt Index', 'Cleanliness Rating Cat',\n",
       "       'Guest Satisfaction Cat', 'Bedrooms Cat'],\n",
       "      dtype='object')"
      ]
     },
     "execution_count": 24,
     "metadata": {},
     "output_type": "execute_result"
    }
   ],
   "source": [
    "data_new.columns"
   ]
  },
  {
   "cell_type": "code",
   "execution_count": 25,
   "metadata": {},
   "outputs": [],
   "source": [
    "selected_features = [\n",
    "    \"City\", \"Price\", \"Day\", \"Room Type\", \n",
    "    \"Person Capacity\", \"Superhost\", \"Multiple Rooms\", \"Business\",\n",
    "    \"Cleanliness Rating\", \"Guest Satisfaction\", \"Bedrooms\",\n",
    "    \"City Center (km)\", \"Metro Distance (km)\", \"Attraction Index\",\n",
    "    \"Normalised Attraction Index\", \"Restraunt Index\",\n",
    "    \"Normalised Restraunt Index\", \"Cleanliness Rating Cat\",\n",
    "    \"Guest Satisfaction Cat\", \"Bedrooms Cat\"\n",
    "]"
   ]
  },
  {
   "cell_type": "code",
   "execution_count": 26,
   "metadata": {},
   "outputs": [],
   "source": [
    "data_to_csv = data_new[selected_features]"
   ]
  },
  {
   "cell_type": "code",
   "execution_count": 27,
   "metadata": {},
   "outputs": [
    {
     "name": "stderr",
     "output_type": "stream",
     "text": [
      "C:\\Users\\danie\\AppData\\Local\\Temp\\ipykernel_4984\\496693536.py:15: SettingWithCopyWarning: \n",
      "A value is trying to be set on a copy of a slice from a DataFrame.\n",
      "Try using .loc[row_indexer,col_indexer] = value instead\n",
      "\n",
      "See the caveats in the documentation: https://pandas.pydata.org/pandas-docs/stable/user_guide/indexing.html#returning-a-view-versus-a-copy\n",
      "  data_to_csv[\"Country\"] = data_to_csv[\"City\"].map(country_mapping)\n"
     ]
    }
   ],
   "source": [
    "# Add a Country column with country values for each city\n",
    "country_mapping = {\n",
    "    \"Amsterdam\": \"Netherlands\",\n",
    "    \"Athens\": \"Greece\",\n",
    "    \"Barcelona\": \"Spain\",\n",
    "    \"Berlin\": \"Germany\",\n",
    "    \"Budapest\": \"Hungary\",\n",
    "    \"Lisbon\": \"Portugal\",\n",
    "    \"Paris\": \"France\",\n",
    "    \"Rome\": \"Italy\",\n",
    "    \"Vienna\": \"Austria\"\n",
    "}\n",
    "\n",
    "# Apply the country mapping to the dataset\n",
    "data_to_csv[\"Country\"] = data_to_csv[\"City\"].map(country_mapping)"
   ]
  },
  {
   "cell_type": "code",
   "execution_count": 28,
   "metadata": {},
   "outputs": [
    {
     "data": {
      "text/plain": [
       "Index(['City', 'Price', 'Day', 'Room Type', 'Person Capacity', 'Superhost',\n",
       "       'Multiple Rooms', 'Business', 'Cleanliness Rating',\n",
       "       'Guest Satisfaction', 'Bedrooms', 'City Center (km)',\n",
       "       'Metro Distance (km)', 'Attraction Index',\n",
       "       'Normalised Attraction Index', 'Restraunt Index',\n",
       "       'Normalised Restraunt Index', 'Cleanliness Rating Cat',\n",
       "       'Guest Satisfaction Cat', 'Bedrooms Cat', 'Country'],\n",
       "      dtype='object')"
      ]
     },
     "execution_count": 28,
     "metadata": {},
     "output_type": "execute_result"
    }
   ],
   "source": [
    "data_to_csv.columns"
   ]
  },
  {
   "cell_type": "code",
   "execution_count": 29,
   "metadata": {},
   "outputs": [],
   "source": [
    "data_to_csv.to_csv(\"airbnb_dataset.csv\", index=False)"
   ]
  },
  {
   "cell_type": "markdown",
   "metadata": {},
   "source": [
    "# Create report for selected features"
   ]
  },
  {
   "cell_type": "code",
   "execution_count": 30,
   "metadata": {},
   "outputs": [],
   "source": [
    "profile_sf = ProfileReport(data_to_csv, title=\"Profiling Report for Selected Features\")"
   ]
  },
  {
   "cell_type": "code",
   "execution_count": 31,
   "metadata": {},
   "outputs": [
    {
     "name": "stderr",
     "output_type": "stream",
     "text": [
      "c:\\Users\\danie\\AppData\\Local\\Programs\\Python\\Python39\\lib\\site-packages\\ydata_profiling\\utils\\dataframe.py:137: SettingWithCopyWarning: \n",
      "A value is trying to be set on a copy of a slice from a DataFrame\n",
      "\n",
      "See the caveats in the documentation: https://pandas.pydata.org/pandas-docs/stable/user_guide/indexing.html#returning-a-view-versus-a-copy\n",
      "  df.rename(columns={\"index\": \"df_index\"}, inplace=True)\n",
      "Summarize dataset:  82%|████████▏ | 23/28 [00:00<00:00, 14.70it/s, Calculate auto correlation]                   c:\\Users\\danie\\AppData\\Local\\Programs\\Python\\Python39\\lib\\site-packages\\ydata_profiling\\model\\correlations.py:66: UserWarning: There was an attempt to calculate the auto correlation, but this failed.\n",
      "To hide this warning, disable the calculation\n",
      "(using `df.profile_report(correlations={\"auto\": {\"calculate\": False}})`\n",
      "If this is problematic for your use case, please report this as an issue:\n",
      "https://github.com/ydataai/ydata-profiling/issues\n",
      "(include the error message: 'could not convert string to float: '3+'')\n",
      "  warnings.warn(\n",
      "Summarize dataset: 100%|██████████| 130/130 [00:11<00:00, 10.95it/s, Completed]                                                       \n",
      "Generate report structure: 100%|██████████| 1/1 [00:04<00:00,  4.60s/it]\n",
      "Render HTML: 100%|██████████| 1/1 [00:02<00:00,  2.55s/it]\n",
      "Export report to file: 100%|██████████| 1/1 [00:00<00:00, 83.31it/s]\n"
     ]
    }
   ],
   "source": [
    "profile_sf.to_file(\"report_selected_features.html\")"
   ]
  }
 ],
 "metadata": {
  "kernelspec": {
   "display_name": "Python 3",
   "language": "python",
   "name": "python3"
  },
  "language_info": {
   "codemirror_mode": {
    "name": "ipython",
    "version": 3
   },
   "file_extension": ".py",
   "mimetype": "text/x-python",
   "name": "python",
   "nbconvert_exporter": "python",
   "pygments_lexer": "ipython3",
   "version": "3.9.5"
  }
 },
 "nbformat": 4,
 "nbformat_minor": 2
}
